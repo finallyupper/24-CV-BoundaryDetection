{
 "cells": [
  {
   "cell_type": "code",
   "execution_count": 17,
   "metadata": {},
   "outputs": [],
   "source": [
    "from custom_filters import * \n",
    "from engine.utils import get_overlap_lst, normalize_image, save_npy, load_data, get_comparison\n",
    "import warnings \n",
    "warnings.filterwarnings(\"ignore\", category=FutureWarning)\n",
    "\n",
    "### config ###\n",
    "split = 'train'\n",
    "data_dir = \"/data/yoojinoh/CV/data/project_data\"\n",
    "num_images = 200\n",
    "##############"
   ]
  },
  {
   "cell_type": "code",
   "execution_count": 18,
   "metadata": {},
   "outputs": [],
   "source": [
    "def total_filter(images, b1=75, b2=200, limit=60, iter=0):\n",
    "    \"\"\"Our Custom Filter to Use\"\"\"    \n",
    "    f1 = global_filter_1(images, iter=iter)\n",
    "    f2 = global_filter_2(images)\n",
    "    f3 = highlight_filter(images, b1, b2, limit)\n",
    "\n",
    "    f1_f3_norm = get_overlap_lst(f1, f3, \"add\")\n",
    "    \n",
    "    f1f3_conventional = get_overlap_lst(f1_f3_norm, f2, \"add\", w1=2, w2=8)\n",
    "    f1f3_conventional_norm = normalize_image(f1f3_conventional)\n",
    "    \n",
    "    tophat_out_norm = morph_processor(f1f3_conventional_norm)\n",
    "\n",
    "    pred_edges = skip_connection(f1f3_conventional_norm, tophat_out_norm)\n",
    "    return pred_edges \n"
   ]
  },
  {
   "cell_type": "code",
   "execution_count": 19,
   "metadata": {},
   "outputs": [],
   "source": [
    "images, boundaries, selected_sample_names = load_data(data_dir, num_images, split, debug=False) \n",
    "gray_images = [cv2.cvtColor(img, cv2.COLOR_RGB2GRAY) for img in images] \n",
    "\n",
    "annot_idx =1\n",
    "gt_boundaries = [b[annot_idx] for b in boundaries]"
   ]
  },
  {
   "cell_type": "code",
   "execution_count": 20,
   "metadata": {},
   "outputs": [
    {
     "name": "stdout",
     "output_type": "stream",
     "text": [
      "'./preds/1206_new2_f1sobel_l60_i0_test.npy' saved.\n"
     ]
    }
   ],
   "source": [
    "pred_edges = total_filter(images, iter=0)\n",
    "\n",
    "save_npy(pred_edges, selected_sample_names, \"./preds/1206_new2_f1sobel_l60_i0_train\")"
   ]
  }
 ],
 "metadata": {
  "kernelspec": {
   "display_name": "deeplearning",
   "language": "python",
   "name": "python3"
  },
  "language_info": {
   "codemirror_mode": {
    "name": "ipython",
    "version": 3
   },
   "file_extension": ".py",
   "mimetype": "text/x-python",
   "name": "python",
   "nbconvert_exporter": "python",
   "pygments_lexer": "ipython3",
   "version": "3.8.19"
  }
 },
 "nbformat": 4,
 "nbformat_minor": 2
}
